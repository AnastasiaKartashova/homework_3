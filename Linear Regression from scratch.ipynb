{
 "cells": [
  {
   "cell_type": "code",
   "execution_count": 37,
   "id": "ba0525ff",
   "metadata": {},
   "outputs": [],
   "source": [
    "import numpy as np\n",
    "import pandas as pd\n",
    "import matplotlib.pyplot as plt"
   ]
  },
  {
   "cell_type": "code",
   "execution_count": 100,
   "id": "6faf0b3a",
   "metadata": {},
   "outputs": [],
   "source": [
    "def train_test_split(X, y, percent):\n",
    "    split = int(len(X)*percent)\n",
    "    X_train, y_train = X[:split], y[:split]\n",
    "    X_test, y_test = X[split:], y[split:]\n",
    "    \n",
    "    return X_train, y_train, X_test, y_test\n",
    "    \n",
    "class LinReg:\n",
    "    def __init__(self, lr=0.01, n_iters = 1000):\n",
    "        self.lr = lr\n",
    "        self.n_iters = n_iters\n",
    "        self.bias = 0\n",
    "        self_weights = None\n",
    "    \n",
    "    def fit(self, X, y):\n",
    "        n, features = X.shape\n",
    "        \n",
    "        self.weights = np.random.rand(features)\n",
    "        \n",
    "        for i in range(self.n_iters):\n",
    "            y_preds = np.dot(X, self.weights)+self.bias\n",
    "            \n",
    "            #gradient descent (derivative of MSE)\n",
    "            dw = (2*np.dot(X.T, y_preds-y))/n\n",
    "            db = (2*np.sum(y_preds-y))/n\n",
    "            \n",
    "            #weights updating\n",
    "            self.weights -= self.lr*dw\n",
    "            self.bias -= self.lr*db\n",
    "        return [self.weights, self.bias]\n",
    "    \n",
    "    def predict(self, X):\n",
    "        y_preds = np.dot(X, self.weights)+self.bias\n",
    "        return y_preds"
   ]
  },
  {
   "cell_type": "code",
   "execution_count": 115,
   "id": "1f43cbab",
   "metadata": {},
   "outputs": [],
   "source": [
    "def RMSE(y_true, y_preds):\n",
    "    return np.mean(y_true-y_preds)"
   ]
  },
  {
   "cell_type": "code",
   "execution_count": 102,
   "id": "d02ceaf7",
   "metadata": {},
   "outputs": [],
   "source": [
    "from sklearn import datasets\n",
    "X, y = datasets.make_regression(n_samples=100, n_features = 1, noise = 15, random_state = 42)"
   ]
  },
  {
   "cell_type": "code",
   "execution_count": 103,
   "id": "57c5250b",
   "metadata": {},
   "outputs": [
    {
     "data": {
      "text/plain": [
       "<matplotlib.collections.PathCollection at 0x1b7160e7850>"
      ]
     },
     "execution_count": 103,
     "metadata": {},
     "output_type": "execute_result"
    },
    {
     "data": {
      "image/png": "[encoded data removed]",
      "text/plain": [
       "<Figure size 432x288 with 1 Axes>"
      ]
     },
     "metadata": {
      "needs_background": "light"
     },
     "output_type": "display_data"
    }
   ],
   "source": [
    "plt.scatter(X, y)"
   ]
  },
  {
   "cell_type": "code",
   "execution_count": 104,
   "id": "875db77c",
   "metadata": {},
   "outputs": [],
   "source": [
    "X_train, y_train, X_test, y_test = train_test_split(X, y, 0.8)"
   ]
  },
  {
   "cell_type": "code",
   "execution_count": 109,
   "id": "90f723c0",
   "metadata": {},
   "outputs": [
    {
     "data": {
      "text/plain": [
       "[array([45.83844369]), 1.8119347168268378]"
      ]
     },
     "execution_count": 109,
     "metadata": {},
     "output_type": "execute_result"
    }
   ],
   "source": [
    "lr = LinReg()\n",
    "lr.fit(X_train, y_train)"
   ]
  },
  {
   "cell_type": "code",
   "execution_count": 92,
   "id": "6fee33db",
   "metadata": {},
   "outputs": [
    {
     "data": {
      "text/plain": [
       "array([-79.0030822 ,   6.89645361,   9.66719004, -59.07004671,\n",
       "        50.26877239,  -3.48920256, -19.70804049,   1.19324295,\n",
       "       -44.61466757,  -4.52588566, -50.94781958,  63.97986693,\n",
       "         4.90732253, -21.18782727, -19.30302965,  86.71748402,\n",
       "       -63.49630481, -31.1846035 ,  -1.48889718, -12.36187936])"
      ]
     },
     "execution_count": 92,
     "metadata": {},
     "output_type": "execute_result"
    }
   ],
   "source": [
    "lr.predict(X_test)"
   ]
  },
  {
   "cell_type": "code",
   "execution_count": 121,
   "id": "d4e41a84",
   "metadata": {},
   "outputs": [
    {
     "data": {
      "text/plain": [
       "[<matplotlib.lines.Line2D at 0x1b711631f40>]"
      ]
     },
     "execution_count": 121,
     "metadata": {},
     "output_type": "execute_result"
    },
    {
     "data": {
      "image/png": "[encoded data removed]",
      "text/plain": [
       "<Figure size 432x288 with 1 Axes>"
      ]
     },
     "metadata": {
      "needs_background": "light"
     },
     "output_type": "display_data"
    }
   ],
   "source": [
    "plt.scatter(X_test, y_test)\n",
    "plt.scatter(X_test, lr.predict(X_test), color = 'green')\n",
    "plt.plot(X_test, lr.predict(X_test), color = 'red')"
   ]
  },
  {
   "cell_type": "code",
   "execution_count": 116,
   "id": "ec57d82a",
   "metadata": {},
   "outputs": [
    {
     "data": {
      "text/plain": [
       "-0.2936699578142286"
      ]
     },
     "execution_count": 116,
     "metadata": {},
     "output_type": "execute_result"
    }
   ],
   "source": [
    "RMSE(y_test, lr.predict(X_test))"
   ]
  }
 ],
 "metadata": {
  "kernelspec": {
   "display_name": "Python 3 (ipykernel)",
   "language": "python",
   "name": "python3"
  },
  "language_info": {
   "codemirror_mode": {
    "name": "ipython",
    "version": 3
   },
   "file_extension": ".py",
   "mimetype": "text/x-python",
   "name": "python",
   "nbconvert_exporter": "python",
   "pygments_lexer": "ipython3",
   "version": "3.9.12"
  }
 },
 "nbformat": 4,
 "nbformat_minor": 5
}
