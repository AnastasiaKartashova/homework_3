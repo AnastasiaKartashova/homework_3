{
 "cells": [
  {
   "cell_type": "code",
   "execution_count": 251,
   "id": "68371444",
   "metadata": {},
   "outputs": [],
   "source": [
    "import numpy as np\n",
    "import matplotlib.pyplot as plt\n",
    "from scipy.stats import mode\n",
    "\n",
    "def train_test_split(X, y, percent):\n",
    "    split = int(len(X)*percent)\n",
    "    X_train, y_train = X[:split], y[:split]\n",
    "    X_test, y_test = X[split:], y[split:]\n",
    "    \n",
    "    return X_train, y_train, X_test, y_test\n",
    "    \n",
    "class KNN:\n",
    "    def __init__(self, k = 3):\n",
    "        self.k = k\n",
    "        \n",
    "    def euclidian_distance(self, a, b):\n",
    "        return np.sqrt((np.sum(a-b)**2))\n",
    "    \n",
    "    def fit(self, X, y):\n",
    "        self.X_train = X\n",
    "        self.y_train = y\n",
    "        \n",
    "        self.n, self.features = X_train.shape\n",
    "        \n",
    "    def predict(self, X_test):\n",
    "        y_preds = np.zeros(X_test.shape[0])\n",
    "        \n",
    "        for i in range(X_test.shape[0]):\n",
    "            \n",
    "            distances_per_object = np.zeros(self.n)\n",
    "            \n",
    "            for j in range(self.n):\n",
    "                \n",
    "                euc = self.euclidian_distance(X_test[i], self.X_train[j])\n",
    "                distances_per_object[j] = euc\n",
    "                \n",
    "            idx = np.argsort(distances_per_object)\n",
    "            target_sorted = self.y_train[idx][:self.k]\n",
    "            y_preds[i] = mode(target_sorted, keepdims=False)[0]\n",
    "        \n",
    "        return y_preds\n",
    "        \n",
    "        \n",
    "def accuracy(y_true, y_preds):\n",
    "    trues = 0\n",
    "    for i in range(len(y_true)):\n",
    "        if y_true[i] == y_preds[i]:\n",
    "            trues += 1\n",
    "    return trues/len(y_true)"
   ]
  },
  {
   "cell_type": "code",
   "execution_count": 254,
   "id": "daeb69b5",
   "metadata": {},
   "outputs": [],
   "source": [
    "from sklearn.datasets import make_classification\n",
    "X, y = make_classification(n_samples = 100, n_features = 2, n_redundant = 0, n_informative = 2, n_clusters_per_class = 1, random_state = 35)"
   ]
  },
  {
   "cell_type": "code",
   "execution_count": 262,
   "id": "f150d7e7",
   "metadata": {},
   "outputs": [
    {
     "data": {
      "image/png": "[encoded data removed]",
      "text/plain": [
       "<Figure size 640x480 with 1 Axes>"
      ]
     },
     "metadata": {},
     "output_type": "display_data"
    }
   ],
   "source": [
    "plt.scatter(X[:,0], X[:,1]);"
   ]
  },
  {
   "cell_type": "code",
   "execution_count": 256,
   "id": "e807b389",
   "metadata": {},
   "outputs": [],
   "source": [
    "X_train, y_train, X_test, y_test = train_test_split(X, y, 0.7)"
   ]
  },
  {
   "cell_type": "code",
   "execution_count": 258,
   "id": "d61f502d",
   "metadata": {},
   "outputs": [],
   "source": [
    "knn = KNN(k=3)\n",
    "knn.fit(X_train, y_train)\n",
    "preds = knn.predict(X_test)"
   ]
  },
  {
   "cell_type": "code",
   "execution_count": 261,
   "id": "b34a2dad",
   "metadata": {},
   "outputs": [
    {
     "data": {
      "text/plain": [
       "0.8666666666666667"
      ]
     },
     "execution_count": 261,
     "metadata": {},
     "output_type": "execute_result"
    }
   ],
   "source": [
    "accuracy(y_test, preds)"
   ]
  }
 ],
 "metadata": {
  "kernelspec": {
   "display_name": "Python 3 (ipykernel)",
   "language": "python",
   "name": "python3"
  },
  "language_info": {
   "codemirror_mode": {
    "name": "ipython",
    "version": 3
   },
   "file_extension": ".py",
   "mimetype": "text/x-python",
   "name": "python",
   "nbconvert_exporter": "python",
   "pygments_lexer": "ipython3",
   "version": "3.11.3"
  }
 },
 "nbformat": 4,
 "nbformat_minor": 5
}
