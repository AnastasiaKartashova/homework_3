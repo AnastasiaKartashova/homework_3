{
 "cells": [
  {
   "cell_type": "code",
   "execution_count": 1,
   "id": "58bb9817",
   "metadata": {},
   "outputs": [],
   "source": [
    "import pandas as pd\n",
    "import numpy as np\n",
    "import matplotlib.pyplot as plt"
   ]
  },
  {
   "cell_type": "code",
   "execution_count": 22,
   "id": "11e26a57",
   "metadata": {},
   "outputs": [],
   "source": [
    "def train_test_split(X, y, percent):\n",
    "    split = int(len(X)*percent)\n",
    "    X_train, y_train = X[:split], y[:split]\n",
    "    X_test, y_test = X[split:], y[split:]\n",
    "    \n",
    "    return X_train, y_train, X_test, y_test\n",
    "    \n",
    "class LogReg:\n",
    "    def __init__(self, lr=0.01, n_iters = 1000):\n",
    "        self.n_iters = n_iters\n",
    "        self.lr = lr\n",
    "        self.weights = None\n",
    "        self.bias = 0\n",
    "        \n",
    "    def sigmoid(self, z):\n",
    "        return 1/(1+np.exp(-z))\n",
    "        \n",
    "    def fit(self, X, y):\n",
    "        \n",
    "        n, features = X.shape\n",
    "        self.weights = np.random.rand(features)\n",
    "        \n",
    "        for i in range(self.n_iters):\n",
    "            z = X@self.weights+self.bias\n",
    "            y_preds = self.sigmoid(z)\n",
    "            \n",
    "            dw = (1/n)*X.T@(y_preds-y)\n",
    "            db = (1/n)*np.sum(y_preds-y)\n",
    "            \n",
    "            self.weights -= self.lr*dw\n",
    "            self.bias -= self.lr*db\n",
    "        \n",
    "        return [self.weights, self.bias]\n",
    "        \n",
    "    def predict(self, X, probas = False):\n",
    "        z = X@self.weights+self.bias\n",
    "        y_preds = self.sigmoid(z) \n",
    "        if probas == False:\n",
    "            return [1 if x>=0.5 else 0 for x in y_preds]\n",
    "        return y_preds\n",
    "        \n",
    "def accuracy(y_true, y_preds):\n",
    "    trues = 0\n",
    "    for i in range(len(y_true)):\n",
    "        if y_true[i] == y_preds[i]:\n",
    "            trues += 1\n",
    "    return trues/len(y_true)"
   ]
  },
  {
   "cell_type": "code",
   "execution_count": 23,
   "id": "2e19f72b",
   "metadata": {},
   "outputs": [],
   "source": [
    "from sklearn.datasets import make_classification\n",
    "X, y = make_classification(n_samples = 100, n_features = 2, n_redundant = 0, n_informative = 2, n_clusters_per_class = 1, random_state = 42)"
   ]
  },
  {
   "cell_type": "code",
   "execution_count": 24,
   "id": "ebcae4fb",
   "metadata": {},
   "outputs": [
    {
     "data": {
      "image/png": "[encoded data removed]",
      "text/plain": [
       "<Figure size 432x288 with 1 Axes>"
      ]
     },
     "metadata": {
      "needs_background": "light"
     },
     "output_type": "display_data"
    }
   ],
   "source": [
    "plt.scatter(X[:,0], X[:,1]);"
   ]
  },
  {
   "cell_type": "code",
   "execution_count": 25,
   "id": "67f178d9",
   "metadata": {},
   "outputs": [],
   "source": [
    "X_train, y_train, X_test, y_test = train_test_split(X, y, 0.8)"
   ]
  },
  {
   "cell_type": "code",
   "execution_count": 45,
   "id": "4734a732",
   "metadata": {},
   "outputs": [
    {
     "data": {
      "text/plain": [
       "[array([-1.49085091,  3.60783002]), 1.4088159964924842]"
      ]
     },
     "execution_count": 45,
     "metadata": {},
     "output_type": "execute_result"
    }
   ],
   "source": [
    "lr = LogReg(n_iters = 6000)\n",
    "lr.fit(X_train, y_train)"
   ]
  },
  {
   "cell_type": "code",
   "execution_count": 46,
   "id": "68c95882",
   "metadata": {},
   "outputs": [],
   "source": [
    "preds = lr.predict(X_test)"
   ]
  },
  {
   "cell_type": "code",
   "execution_count": 47,
   "id": "76319e53",
   "metadata": {},
   "outputs": [
    {
     "data": {
      "text/plain": [
       "1.0"
      ]
     },
     "execution_count": 47,
     "metadata": {},
     "output_type": "execute_result"
    }
   ],
   "source": [
    "accuracy(y_test, preds)"
   ]
  }
 ],
 "metadata": {
  "kernelspec": {
   "display_name": "Python 3 (ipykernel)",
   "language": "python",
   "name": "python3"
  },
  "language_info": {
   "codemirror_mode": {
    "name": "ipython",
    "version": 3
   },
   "file_extension": ".py",
   "mimetype": "text/x-python",
   "name": "python",
   "nbconvert_exporter": "python",
   "pygments_lexer": "ipython3",
   "version": "3.9.12"
  }
 },
 "nbformat": 4,
 "nbformat_minor": 5
}
