{
 "cells": [
  {
   "cell_type": "code",
   "execution_count": 49,
   "id": "356cc5dd",
   "metadata": {},
   "outputs": [],
   "source": [
    "import surprise\n",
    "import pandas as pd"
   ]
  },
  {
   "cell_type": "code",
   "execution_count": 50,
   "id": "128dbe85",
   "metadata": {},
   "outputs": [],
   "source": [
    "from zipfile import ZipFile\n",
    "\n",
    "with ZipFile('ml-1m.zip', 'r') as f:\n",
    "\n",
    "    f.extractall()"
   ]
  },
  {
   "cell_type": "code",
   "execution_count": 51,
   "id": "c043c85a",
   "metadata": {},
   "outputs": [],
   "source": [
    "movies = pd.read_csv('movies.dat', sep='::', engine='python', header=None, encoding = \"ISO-8859-1\")\n",
    "ratings = pd.read_csv('ratings.dat', sep='::', engine='python', header=None, encoding = \"ISO-8859-1\")\n",
    "movies.columns = ['MovieID', 'Title', 'Genres']\n",
    "ratings.columns = ['UserID', 'MovieID', 'Rating', 'Timestamp']"
   ]
  },
  {
   "cell_type": "code",
   "execution_count": 52,
   "id": "d1ec08aa",
   "metadata": {},
   "outputs": [],
   "source": [
    "movies_with_ratings = movies.merge(ratings, on='MovieID').reset_index(drop=True)\n",
    "movies_with_ratings.dropna(inplace=True)\n",
    "movies_with_ratings = movies_with_ratings[['UserID','Title', 'Rating']]"
   ]
  },
  {
   "cell_type": "code",
   "execution_count": 59,
   "id": "4503eeb2",
   "metadata": {},
   "outputs": [],
   "source": [
    "dataset = pd.DataFrame({\n",
    "    'uid': movies_with_ratings.UserID,\n",
    "    'iid': movies_with_ratings.Title,\n",
    "    'rating': movies_with_ratings.Rating\n",
    "})"
   ]
  },
  {
   "cell_type": "code",
   "execution_count": 62,
   "id": "180f2444",
   "metadata": {},
   "outputs": [
    {
     "data": {
      "text/plain": [
       "(1, 5)"
      ]
     },
     "execution_count": 62,
     "metadata": {},
     "output_type": "execute_result"
    }
   ],
   "source": [
    "dataset['rating'].min(), dataset['rating'].max()"
   ]
  },
  {
   "cell_type": "code",
   "execution_count": 65,
   "id": "74ef865b",
   "metadata": {},
   "outputs": [
    {
     "data": {
      "text/plain": [
       "(6040, 3706)"
      ]
     },
     "execution_count": 65,
     "metadata": {},
     "output_type": "execute_result"
    }
   ],
   "source": [
    "dataset['uid'].nunique(), dataset['iid'].nunique()"
   ]
  },
  {
   "cell_type": "code",
   "execution_count": 69,
   "id": "cd9d1d92",
   "metadata": {},
   "outputs": [],
   "source": [
    "from surprise import KNNWithMeans, KNNBasic, SVD\n",
    "from surprise import Dataset\n",
    "from surprise import accuracy\n",
    "from surprise import Reader\n",
    "from surprise.model_selection import train_test_split, cross_validate\n",
    "\n",
    "\n",
    "reader = Reader(rating_scale=(1, 5))\n",
    "data = Dataset.load_from_df(dataset, reader)"
   ]
  },
  {
   "cell_type": "markdown",
   "id": "1ecf92b0",
   "metadata": {},
   "source": [
    "# SVD cross-validation"
   ]
  },
  {
   "cell_type": "code",
   "execution_count": 70,
   "id": "413e3513",
   "metadata": {},
   "outputs": [],
   "source": [
    "trainset, testset = train_test_split(data, test_size=0.2, random_state=1)"
   ]
  },
  {
   "cell_type": "code",
   "execution_count": 73,
   "id": "695ed335",
   "metadata": {},
   "outputs": [
    {
     "name": "stdout",
     "output_type": "stream",
     "text": [
      "Evaluating RMSE, MAE of algorithm SVD on 5 split(s).\n",
      "\n",
      "                  Fold 1  Fold 2  Fold 3  Fold 4  Fold 5  Mean    Std     \n",
      "RMSE (testset)    0.8722  0.8749  0.8716  0.8761  0.8731  0.8736  0.0017  \n",
      "MAE (testset)     0.6850  0.6868  0.6838  0.6873  0.6854  0.6857  0.0013  \n",
      "Fit time          10.09   10.04   12.80   12.32   11.91   11.43   1.15    \n",
      "Test time         1.61    1.26    1.32    1.55    1.27    1.40    0.15    \n"
     ]
    },
    {
     "data": {
      "text/plain": [
       "{'test_rmse': array([0.8721896 , 0.87488756, 0.87155727, 0.87611247, 0.87312577]),\n",
       " 'test_mae': array([0.68500719, 0.68684485, 0.68381713, 0.68725204, 0.68536284]),\n",
       " 'fit_time': (10.091252088546753,\n",
       "  10.039140462875366,\n",
       "  12.797046661376953,\n",
       "  12.317123889923096,\n",
       "  11.911550998687744),\n",
       " 'test_time': (1.6121478080749512,\n",
       "  1.2629401683807373,\n",
       "  1.3204755783081055,\n",
       "  1.5548615455627441,\n",
       "  1.2714860439300537)}"
      ]
     },
     "execution_count": 73,
     "metadata": {},
     "output_type": "execute_result"
    }
   ],
   "source": [
    "algo1 = SVD()\n",
    "\n",
    "cross_validate(algo1, data, measures=['RMSE', 'MAE'], cv=5, verbose=True)"
   ]
  },
  {
   "cell_type": "markdown",
   "id": "846c1330",
   "metadata": {},
   "source": [
    "Выберем лучший алгоритм для последующего его улучшения."
   ]
  },
  {
   "cell_type": "markdown",
   "id": "e6dde3fd",
   "metadata": {},
   "source": [
    "# KNN with means cross-validation"
   ]
  },
  {
   "cell_type": "code",
   "execution_count": 74,
   "id": "26f8f334",
   "metadata": {},
   "outputs": [
    {
     "name": "stdout",
     "output_type": "stream",
     "text": [
      "Computing the msd similarity matrix...\n",
      "Done computing similarity matrix.\n",
      "Computing the msd similarity matrix...\n",
      "Done computing similarity matrix.\n",
      "Computing the msd similarity matrix...\n",
      "Done computing similarity matrix.\n",
      "Computing the msd similarity matrix...\n",
      "Done computing similarity matrix.\n",
      "Computing the msd similarity matrix...\n",
      "Done computing similarity matrix.\n",
      "Evaluating RMSE, MAE of algorithm KNNWithMeans on 5 split(s).\n",
      "\n",
      "                  Fold 1  Fold 2  Fold 3  Fold 4  Fold 5  Mean    Std     \n",
      "RMSE (testset)    0.9289  0.9298  0.9298  0.9273  0.9302  0.9292  0.0010  \n",
      "MAE (testset)     0.7384  0.7390  0.7383  0.7373  0.7397  0.7385  0.0008  \n",
      "Fit time          20.02   20.67   22.09   22.79   19.58   21.03   1.22    \n",
      "Test time         74.23   72.26   75.86   71.80   79.36   74.70   2.74    \n"
     ]
    },
    {
     "data": {
      "text/plain": [
       "{'test_rmse': array([0.92894292, 0.92976239, 0.9298408 , 0.92727388, 0.93020337]),\n",
       " 'test_mae': array([0.73843739, 0.73897881, 0.73828577, 0.73728757, 0.73970489]),\n",
       " 'fit_time': (20.021695852279663,\n",
       "  20.671433210372925,\n",
       "  22.08785390853882,\n",
       "  22.786900997161865,\n",
       "  19.581608295440674),\n",
       " 'test_time': (74.22834134101868,\n",
       "  72.26439070701599,\n",
       "  75.85965371131897,\n",
       "  71.80454349517822,\n",
       "  79.35630106925964)}"
      ]
     },
     "execution_count": 74,
     "metadata": {},
     "output_type": "execute_result"
    }
   ],
   "source": [
    "algo2 = KNNWithMeans()\n",
    "\n",
    "cross_validate(algo2, data, measures=['RMSE', 'MAE'], cv=5, verbose=True)"
   ]
  },
  {
   "cell_type": "markdown",
   "id": "1d75a903",
   "metadata": {},
   "source": [
    "# KNN Basic cross-validation"
   ]
  },
  {
   "cell_type": "code",
   "execution_count": 75,
   "id": "814c342c",
   "metadata": {},
   "outputs": [
    {
     "name": "stdout",
     "output_type": "stream",
     "text": [
      "Computing the msd similarity matrix...\n",
      "Done computing similarity matrix.\n",
      "Computing the msd similarity matrix...\n",
      "Done computing similarity matrix.\n",
      "Computing the msd similarity matrix...\n",
      "Done computing similarity matrix.\n",
      "Computing the msd similarity matrix...\n",
      "Done computing similarity matrix.\n",
      "Computing the msd similarity matrix...\n",
      "Done computing similarity matrix.\n",
      "Evaluating RMSE, MAE of algorithm KNNBasic on 5 split(s).\n",
      "\n",
      "                  Fold 1  Fold 2  Fold 3  Fold 4  Fold 5  Mean    Std     \n",
      "RMSE (testset)    0.9227  0.9210  0.9251  0.9216  0.9240  0.9229  0.0015  \n",
      "MAE (testset)     0.7272  0.7264  0.7292  0.7268  0.7274  0.7274  0.0010  \n",
      "Fit time          20.73   20.88   21.30   19.64   20.74   20.66   0.55    \n",
      "Test time         69.61   71.64   72.21   70.79   74.64   71.78   1.68    \n"
     ]
    },
    {
     "data": {
      "text/plain": [
       "{'test_rmse': array([0.92269208, 0.92098741, 0.92508573, 0.92161726, 0.92397141]),\n",
       " 'test_mae': array([0.72715545, 0.72638205, 0.72921525, 0.72684481, 0.72739715]),\n",
       " 'fit_time': (20.731898546218872,\n",
       "  20.880713939666748,\n",
       "  21.29983139038086,\n",
       "  19.635774612426758,\n",
       "  20.740044832229614),\n",
       " 'test_time': (69.60802626609802,\n",
       "  71.6352813243866,\n",
       "  72.2135910987854,\n",
       "  70.78700590133667,\n",
       "  74.63641166687012)}"
      ]
     },
     "execution_count": 75,
     "metadata": {},
     "output_type": "execute_result"
    }
   ],
   "source": [
    "algo3 = KNNBasic()\n",
    "cross_validate(algo3, data, measures=['RMSE', 'MAE'], cv=5, verbose=True)"
   ]
  },
  {
   "cell_type": "markdown",
   "id": "16a04d6a",
   "metadata": {},
   "source": [
    "# SVD++ cross-validation"
   ]
  },
  {
   "cell_type": "code",
   "execution_count": 76,
   "id": "b61747c9",
   "metadata": {},
   "outputs": [
    {
     "name": "stdout",
     "output_type": "stream",
     "text": [
      "Evaluating RMSE, MAE of algorithm SVDpp on 5 split(s).\n",
      "\n",
      "                  Fold 1  Fold 2  Fold 3  Fold 4  Fold 5  Mean    Std     \n",
      "RMSE (testset)    0.8622  0.8595  0.8603  0.8626  0.8613  0.8612  0.0012  \n",
      "MAE (testset)     0.6714  0.6701  0.6701  0.6730  0.6716  0.6712  0.0011  \n",
      "Fit time          263.96  268.71  274.46  278.47  278.87  272.89  5.77    \n",
      "Test time         54.37   71.53   59.95   57.99   61.65   61.10   5.75    \n"
     ]
    },
    {
     "data": {
      "text/plain": [
       "{'test_rmse': array([0.86222663, 0.85946105, 0.86027642, 0.86258737, 0.86126311]),\n",
       " 'test_mae': array([0.67139707, 0.6701001 , 0.67012556, 0.67301672, 0.67156811]),\n",
       " 'fit_time': (263.95687079429626,\n",
       "  268.71485900878906,\n",
       "  274.46264386177063,\n",
       "  278.46577525138855,\n",
       "  278.8734073638916),\n",
       " 'test_time': (54.36972737312317,\n",
       "  71.5268144607544,\n",
       "  59.952635765075684,\n",
       "  57.9886519908905,\n",
       "  61.65486717224121)}"
      ]
     },
     "execution_count": 76,
     "metadata": {},
     "output_type": "execute_result"
    }
   ],
   "source": [
    "from surprise import SVDpp\n",
    "algo4 = SVDpp()\n",
    "cross_validate(algo4, data, measures=['RMSE', 'MAE'], cv=5, verbose=True)"
   ]
  },
  {
   "cell_type": "markdown",
   "id": "d3c6531d",
   "metadata": {},
   "source": [
    "SVD++ дала требуемый результат. "
   ]
  },
  {
   "cell_type": "code",
   "execution_count": null,
   "id": "44537ede",
   "metadata": {},
   "outputs": [],
   "source": []
  }
 ],
 "metadata": {
  "kernelspec": {
   "display_name": "Python 3 (ipykernel)",
   "language": "python",
   "name": "python3"
  },
  "language_info": {
   "codemirror_mode": {
    "name": "ipython",
    "version": 3
   },
   "file_extension": ".py",
   "mimetype": "text/x-python",
   "name": "python",
   "nbconvert_exporter": "python",
   "pygments_lexer": "ipython3",
   "version": "3.11.3"
  }
 },
 "nbformat": 4,
 "nbformat_minor": 5
}
